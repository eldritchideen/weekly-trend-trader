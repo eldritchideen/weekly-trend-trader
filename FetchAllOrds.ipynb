{
 "metadata": {
  "name": "",
  "signature": "sha256:be32cbe7132d8f3369a774c992f5df612c50622f11848fcde4115008438d4088"
 },
 "nbformat": 3,
 "nbformat_minor": 0,
 "worksheets": [
  {
   "cells": [
    {
     "cell_type": "markdown",
     "metadata": {},
     "source": [
      "# Fetch codes of all companies making up the All Ords Index\n"
     ]
    },
    {
     "cell_type": "code",
     "collapsed": false,
     "input": [
      "from datetime import datetime\n",
      "import urllib.request\n",
      "import urllib.response\n",
      "from bs4 import BeautifulSoup"
     ],
     "language": "python",
     "metadata": {},
     "outputs": [],
     "prompt_number": 2
    },
    {
     "cell_type": "code",
     "collapsed": false,
     "input": [
      "url = \"http://www.marketindex.com.au/all-ordinaries\"\n",
      "resp = urllib.request.urlopen(url)\n",
      "soup = BeautifulSoup(resp.read(), 'lxml')"
     ],
     "language": "python",
     "metadata": {},
     "outputs": [],
     "prompt_number": 3
    },
    {
     "cell_type": "code",
     "collapsed": false,
     "input": [
      "table = soup.select(\"#asx_sp_table > tbody > tr\")"
     ],
     "language": "python",
     "metadata": {},
     "outputs": [],
     "prompt_number": 5
    },
    {
     "cell_type": "code",
     "collapsed": false,
     "input": [
      "all_ords_codes = [row.contents[3].text for row in table ]"
     ],
     "language": "python",
     "metadata": {},
     "outputs": [],
     "prompt_number": 28
    },
    {
     "cell_type": "code",
     "collapsed": false,
     "input": [
      "with open(\"all_ords.txt\", \"w\") as f:\n",
      "    for code in all_ords_codes:\n",
      "        f.write(code + \"\\n\")\n"
     ],
     "language": "python",
     "metadata": {},
     "outputs": [],
     "prompt_number": 29
    },
    {
     "cell_type": "code",
     "collapsed": false,
     "input": [],
     "language": "python",
     "metadata": {},
     "outputs": []
    }
   ],
   "metadata": {}
  }
 ]
}