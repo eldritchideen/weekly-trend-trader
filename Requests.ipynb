{
 "metadata": {
  "name": "",
  "signature": "sha256:a1b7a9c55e478d0a6610b7d621cdc474f209b583b1c316c1d9ec075210c6afc1"
 },
 "nbformat": 3,
 "nbformat_minor": 0,
 "worksheets": [
  {
   "cells": [
    {
     "cell_type": "code",
     "collapsed": false,
     "input": [
      "import datetime\n",
      "import urllib.request\n",
      "import urllib.response\n",
      "from bs4 import BeautifulSoup"
     ],
     "language": "python",
     "metadata": {},
     "outputs": [],
     "prompt_number": 20
    },
    {
     "cell_type": "code",
     "collapsed": false,
     "input": [
      "url = \"http://www.smh.com.au/business/markets/52-week-highs?page=-1\"\n",
      "resp = urllib.request.urlopen(url)\n",
      "soup = BeautifulSoup(resp.read(), 'lxml')"
     ],
     "language": "python",
     "metadata": {},
     "outputs": [],
     "prompt_number": 26
    },
    {
     "cell_type": "code",
     "collapsed": false,
     "input": [
      "# Get date of new highs\n",
      "date = soup.select(\"#content > section > header > p > time\")[0].text\n",
      "print(\"Date of new highs: {0}\".format(date))"
     ],
     "language": "python",
     "metadata": {},
     "outputs": [
      {
       "output_type": "stream",
       "stream": "stdout",
       "text": [
        "Date of new highs: February 6, 2015\n"
       ]
      }
     ],
     "prompt_number": 29
    },
    {
     "cell_type": "code",
     "collapsed": false,
     "input": [
      "new_highs = [elem.text for elem in soup.select(\"#content > section > table > tbody > tr > th > a\")]"
     ],
     "language": "python",
     "metadata": {},
     "outputs": [],
     "prompt_number": 35
    },
    {
     "cell_type": "code",
     "collapsed": false,
     "input": [],
     "language": "python",
     "metadata": {},
     "outputs": [],
     "prompt_number": 22
    }
   ],
   "metadata": {}
  }
 ]
}